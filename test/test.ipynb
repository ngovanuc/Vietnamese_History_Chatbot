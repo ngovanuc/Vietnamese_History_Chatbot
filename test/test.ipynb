{
 "cells": [
  {
   "cell_type": "markdown",
   "id": "2913132a",
   "metadata": {},
   "source": [
    "# Memory buffer for chatbot with LangChain"
   ]
  },
  {
   "cell_type": "markdown",
   "id": "71758239",
   "metadata": {},
   "source": [
    "## Conversation Buffer Memory"
   ]
  },
  {
   "cell_type": "code",
   "execution_count": 1,
   "id": "29b168d0",
   "metadata": {},
   "outputs": [
    {
     "name": "stdout",
     "output_type": "stream",
     "text": [
      "{'history': \"Human: Hello! How are you?\\nAI: I'm fine, thanks! How can I help you?\\nHuman: Tell me a joke!\\nAI: Why did the chicken cross the road? To get to the other side!\"}\n"
     ]
    },
    {
     "name": "stderr",
     "output_type": "stream",
     "text": [
      "C:\\Users\\NGOVANUC\\AppData\\Local\\Temp\\ipykernel_4648\\516170006.py:4: LangChainDeprecationWarning: Please see the migration guide at: https://python.langchain.com/docs/versions/migrating_memory/\n",
      "  memory = ConversationBufferMemory()\n"
     ]
    }
   ],
   "source": [
    "from langchain.memory import ConversationBufferMemory\n",
    "\n",
    "# Initialize memory buffer\n",
    "memory = ConversationBufferMemory()\n",
    "\n",
    "# User conversation history\n",
    "user_input = \"Hello! How are you?\"\n",
    "bot_output = \"I'm fine, thanks! How can I help you?\"\n",
    "\n",
    "# Save the initial context\n",
    "memory.save_context({\"input\": user_input}, {\"output\": bot_output})\n",
    "\n",
    "# User conversation history\n",
    "user_input = \"Tell me a joke!\"\n",
    "bot_output = \"Why did the chicken cross the road? To get to the other side!\"\n",
    "\n",
    "# Update the context\n",
    "memory.save_context({\"input\": user_input}, {\"output\": bot_output})\n",
    "\n",
    "# Retrieval the conversation history\n",
    "conversation_history = memory.load_memory_variables({})\n",
    "\n",
    "print(conversation_history)"
   ]
  }
 ],
 "metadata": {
  "kernelspec": {
   "display_name": "Python 3",
   "language": "python",
   "name": "python3"
  },
  "language_info": {
   "codemirror_mode": {
    "name": "ipython",
    "version": 3
   },
   "file_extension": ".py",
   "mimetype": "text/x-python",
   "name": "python",
   "nbconvert_exporter": "python",
   "pygments_lexer": "ipython3",
   "version": "3.12.9"
  }
 },
 "nbformat": 4,
 "nbformat_minor": 5
}
