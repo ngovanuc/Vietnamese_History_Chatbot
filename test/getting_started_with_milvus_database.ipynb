{
 "cells": [
  {
   "cell_type": "code",
   "execution_count": null,
   "id": "77be9ac3",
   "metadata": {},
   "outputs": [],
   "source": [
    "from pymilvus import MilvusClient\n",
    "\n",
    "# Setup vector database\n",
    "client = MilvusClient(host=\"localhost\", port=19121)\n",
    "\n",
    "\n",
    "# Create a collection (like table in SQL)\n",
    "if client.has_collection(collection_name=\"demo_collection\"):\n",
    "    client.drop_collection(collection_name=\"demo_collection\")\n",
    "client.create_collection(\n",
    "    collection_name=\"demo_collection\",\n",
    "    dimension=768,  # The vectors we will use in this demo has 768 dimensions\n",
    ")\n",
    "\n",
    "\n",
    "# Trong ví dụ trên:\n",
    "# - Các trường khóa chính (key) và vector (vector) sử dụng tên mặc định của chúng (\"id\" và  \"vector\")\n",
    "# - Kiểu số liệu (định nghĩa khoảng cách vector) được đặt thành giá trị mặc định của nó (COSINE)\n",
    "# - Trường khóa chính chấp nhận số nguyên và không tự động tăng"
   ]
  },
  {
   "cell_type": "markdown",
   "id": "7151bca5",
   "metadata": {},
   "source": [
    "### Prepare Data"
   ]
  }
 ],
 "metadata": {
  "kernelspec": {
   "display_name": "Python 3",
   "language": "python",
   "name": "python3"
  },
  "language_info": {
   "codemirror_mode": {
    "name": "ipython",
    "version": 3
   },
   "file_extension": ".py",
   "mimetype": "text/x-python",
   "name": "python",
   "nbconvert_exporter": "python",
   "pygments_lexer": "ipython3",
   "version": "3.12.9"
  }
 },
 "nbformat": 4,
 "nbformat_minor": 5
}
