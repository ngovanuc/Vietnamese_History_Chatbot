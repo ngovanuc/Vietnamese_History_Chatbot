{
 "cells": [
  {
   "cell_type": "markdown",
   "metadata": {},
   "source": [
    "# Installation"
   ]
  },
  {
   "cell_type": "code",
   "execution_count": null,
   "metadata": {},
   "outputs": [],
   "source": [
    "# Before you start, please make sure Docker is installed and running on your system.\n",
    "# Download and run\n",
    "# docker pull qdrant/qdrant"
   ]
  },
  {
   "cell_type": "code",
   "execution_count": null,
   "metadata": {},
   "outputs": [],
   "source": [
    "# Then, run the service:\n",
    "# docker run -p 6333:6333 -p 6334:6334 -v \"$(pwd)/qdrant_storage:/qdrant/storage:z\" qdrant/qdrant\n",
    "\"\"\"Theo cấu hình mặc định, tất cả dữ liệu sẽ được lưu trữ trong thư mục ./qdrant_storage. \n",
    "Đây cũng sẽ là thư mục duy nhất mà cả Container và máy chủ đều có thể nhìn thấy.\"\"\"\n",
    "\n",
    "# Qdrant is now accessible:\n",
    "# REST API: localhost:6333\n",
    "# Web UI: localhost:6333/dashboard\n",
    "# GRPC API: localhost:6334"
   ]
  },
  {
   "cell_type": "markdown",
   "metadata": {},
   "source": [
    "# Initialize the client"
   ]
  },
  {
   "cell_type": "code",
   "execution_count": 1,
   "metadata": {},
   "outputs": [],
   "source": [
    "from qdrant_client import QdrantClient\n",
    "\n",
    "client = QdrantClient(url=\"http://localhost:6333\")\n",
    "# or\n",
    "# client = QdrantClient(host=\"localhost\", port=6333)\n",
    "\n",
    "# Theo mặc định, Qdrant bắt đầu mà không có mã hóa hoặc xác thực.\n",
    "# Điều này có nghĩa là bất kỳ ai có quyền truy cập mạng vào máy của bạn đều có thể truy \n",
    "# cập vào phiên bản container Qdrant của bạn.\n",
    "# Vui lòng đọc kỹ Bảo mật để biết chi tiết về cách bảo mật phiên bản của bạn."
   ]
  },
  {
   "cell_type": "markdown",
   "metadata": {},
   "source": [
    "# Create a collection"
   ]
  },
  {
   "cell_type": "code",
   "execution_count": 5,
   "metadata": {},
   "outputs": [
    {
     "data": {
      "text/plain": [
       "True"
      ]
     },
     "execution_count": 5,
     "metadata": {},
     "output_type": "execute_result"
    }
   ],
   "source": [
    "from qdrant_client.models import Distance\n",
    "from qdrant_client.models import VectorParams\n",
    "\n",
    "client.create_collection(\n",
    "    collection_name=\"est_collection\",\n",
    "    vectors_config=VectorParams(size=4, distance=Distance.DOT)\n",
    ")\n",
    "# Lưu trữ dữ liệu vector trong bộ sưu tập qdrant \"test_collection\"\n",
    "# Collection này sử dụng số liệu khoảng cách vô hướng để so sánh vector"
   ]
  },
  {
   "cell_type": "markdown",
   "metadata": {},
   "source": [
    "# Add vectors"
   ]
  },
  {
   "cell_type": "code",
   "execution_count": 4,
   "metadata": {},
   "outputs": [
    {
     "name": "stdout",
     "output_type": "stream",
     "text": [
      "operation_id=0 status=<UpdateStatus.COMPLETED: 'completed'>\n"
     ]
    }
   ],
   "source": [
    "# Hãy thêm một vài vector với một payload\n",
    "# Payload là một dữ liệu khác mà bạn muốn liên kết đến vector\n",
    "from qdrant_client.models import PointStruct\n",
    "\n",
    "operation_info = client.upsert(\n",
    "    collection_name=\"test_collection\",\n",
    "    wait=True,\n",
    "    points=[\n",
    "        PointStruct(id=1, vector=[0.05, 0.61, 0.76, 0.74], payload={\"city\": \"Berlin\"}),\n",
    "        PointStruct(id=2, vector=[0.19, 0.81, 0.75, 0.11], payload={\"city\": \"London\"}),\n",
    "        PointStruct(id=3, vector=[0.36, 0.55, 0.47, 0.94], payload={\"city\": \"Moscow\"}),\n",
    "        PointStruct(id=4, vector=[0.18, 0.01, 0.85, 0.80], payload={\"city\": \"New York\"}),\n",
    "        PointStruct(id=5, vector=[0.24, 0.18, 0.22, 0.44], payload={\"city\": \"Beijing\"}),\n",
    "        PointStruct(id=6, vector=[0.35, 0.08, 0.11, 0.44], payload={\"city\": \"Mumbai\"}),\n",
    "    ]\n",
    ")\n",
    "print(operation_info)"
   ]
  },
  {
   "cell_type": "markdown",
   "metadata": {},
   "source": [
    "# Run a query"
   ]
  },
  {
   "cell_type": "code",
   "execution_count": 5,
   "metadata": {},
   "outputs": [
    {
     "name": "stdout",
     "output_type": "stream",
     "text": [
      "[ScoredPoint(id=4, version=0, score=1.362, payload={'city': 'New York'}, vector=None, shard_key=None, order_value=None), ScoredPoint(id=1, version=0, score=1.273, payload={'city': 'Berlin'}, vector=None, shard_key=None, order_value=None), ScoredPoint(id=3, version=0, score=1.208, payload={'city': 'Moscow'}, vector=None, shard_key=None, order_value=None)]\n"
     ]
    }
   ],
   "source": [
    "# Hãy đặt một câu hỏi cơ bản - Trong các vectơ được lưu trữ của chúng ta, \n",
    "# vectơ nào giống nhất với vectơ truy vấn [0,2, 0,1, 0,9, 0,7]?\n",
    "search_result = client.query_points(\n",
    "    collection_name=\"test_collection\",\n",
    "    query=[0.2, 0.1, 0.9, 0.7],\n",
    "    with_payload=True,\n",
    "    limit=3,\n",
    ").points\n",
    "\n",
    "print(search_result)\n",
    "\n",
    "# Kết quả trả về xếp giảm dần dựa theo sự tương đồng"
   ]
  },
  {
   "cell_type": "markdown",
   "metadata": {},
   "source": [
    "# Add a filter"
   ]
  },
  {
   "cell_type": "code",
   "execution_count": 6,
   "metadata": {},
   "outputs": [
    {
     "name": "stdout",
     "output_type": "stream",
     "text": [
      "[ScoredPoint(id=2, version=0, score=0.871, payload={'city': 'London'}, vector=None, shard_key=None, order_value=None)]\n"
     ]
    }
   ],
   "source": [
    "# Chúng ta có thể thu hẹp kết quả hơn nữa bằng cách lọc theo tải trọng. Hãy tìm kết quả gần nhất có chứa \"London\".\n",
    "from qdrant_client.models import Filter\n",
    "from qdrant_client.models import FieldCondition\n",
    "from qdrant_client.models import MatchValue\n",
    "\n",
    "search_result = client.query_points(\n",
    "    collection_name=\"test_collection\",\n",
    "    query=[0.2, 0.1, 0.9, 0.7],\n",
    "    query_filter=Filter(must=[FieldCondition(key=\"city\", match=MatchValue(value=\"London\"))]),\n",
    "    with_payload=True,\n",
    "    limit=3,\n",
    ").points\n",
    "\n",
    "print(search_result)"
   ]
  },
  {
   "cell_type": "markdown",
   "metadata": {},
   "source": [
    "# Các phương pháp search vector\n",
    "\n",
    "1. Vector search (Similarity search): Tìm kiếm theo theo độ chương đồng dựa vào khoảng cách\n",
    "    - Cosine: đo độ tương đồng theo góc\n",
    "    - Dot: tích vô hướng\n",
    "    - Euclidean: khoảng cách L2\n",
    "\n",
    "2. Filtered search (Tìm kiếm có điều kiện)\n",
    "\n",
    "3. Hybrid search (kết hợp vector search và keyword search)\n",
    "\n",
    "4. Grouped search (Tìm kiếm có nhóm)\n",
    "\n",
    "5. Các loại phương pháp search khác"
   ]
  }
 ],
 "metadata": {
  "kernelspec": {
   "display_name": "Python 3",
   "language": "python",
   "name": "python3"
  },
  "language_info": {
   "codemirror_mode": {
    "name": "ipython",
    "version": 3
   },
   "file_extension": ".py",
   "mimetype": "text/x-python",
   "name": "python",
   "nbconvert_exporter": "python",
   "pygments_lexer": "ipython3",
   "version": "3.12.9"
  }
 },
 "nbformat": 4,
 "nbformat_minor": 2
}
