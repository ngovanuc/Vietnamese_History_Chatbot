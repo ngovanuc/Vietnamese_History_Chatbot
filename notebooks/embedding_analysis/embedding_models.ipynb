{
 "cells": [
  {
   "cell_type": "code",
   "execution_count": null,
   "id": "31e424e1",
   "metadata": {},
   "outputs": [],
   "source": [
    "import warnings\n",
    "warnings.filterwarnings(\"ignore\")"
   ]
  },
  {
   "cell_type": "code",
   "execution_count": null,
   "id": "769be3c9",
   "metadata": {},
   "outputs": [],
   "source": [
    "from transformers import AutoTokenizer\n",
    "from transformers import AutoModel"
   ]
  },
  {
   "cell_type": "code",
   "execution_count": null,
   "id": "eac0b9a1",
   "metadata": {},
   "outputs": [],
   "source": [
    "all_MiniLM_L6_v2 = \"..\\\\embedding_models\\\\all-MiniLM-L6-v2\"\n",
    "distiluse_base_multilingual_cased_v2 = \"..\\\\embedding_models\\\\distiluse-base-multilingual-cased-v2\"\n",
    "multilingual_e5_small = \"..\\\\embedding_models\\\\multilingual-e5-small\"\n",
    "sup_SimCSE_VietNamese_phobert_base = \"..\\\\embedding_models\\\\sup-SimCSE-VietNamese-phobert-base\"\n",
    "vietnamese_bi_encoder = \"..\\\\embedding_models\\\\vietnamese-bi-encoder\"\n",
    "vietnamese_embedding = \"..\\\\embedding_models\\\\vietnamese-embedding\"\n",
    "\n",
    "vietnamese_history_dataset = \"..\\\\datasets\\\\vietnamese_history_dataset\\\\data.json\""
   ]
  },
  {
   "cell_type": "code",
   "execution_count": null,
   "id": "12d57f7f",
   "metadata": {},
   "outputs": [],
   "source": [
    "import pandas as pd\n",
    "import json\n",
    "from IPython.display import clear_output\n",
    "\n",
    "df = pd.read_json(vietnamese_history_dataset)\n",
    "df.head()"
   ]
  },
  {
   "cell_type": "code",
   "execution_count": null,
   "id": "a0c9d84d",
   "metadata": {},
   "outputs": [],
   "source": [
    "df[\"embedding\"] = None\n",
    "df[\"embeded\"] = None\n",
    "\n",
    "for idx in range(len(df)):\n",
    "    df[\"embedding\"][idx] = df[\"title\"][idx] + \": \" + df[\"content\"][idx]\n",
    "\n",
    "df.head()"
   ]
  },
  {
   "cell_type": "code",
   "execution_count": null,
   "id": "b02d8796",
   "metadata": {},
   "outputs": [],
   "source": [
    "import torch\n",
    "\n",
    "max_seq_length = 8192\n",
    "device = torch.device(\"cuda\" if torch.cuda.is_available() else \"cpu\")\n",
    "print(device)\n",
    "if device.type == \"cuda\":\n",
    "    convert_to_tensor = True\n",
    "else:\n",
    "    convert_to_tensor = False\n",
    "convert_to_numpy = not convert_to_tensor\n",
    "batch_size = 32\n",
    "output_value = \"sentence_embedding\"\n",
    "normalize_embeddings = False # Chuẩn hóa L2"
   ]
  },
  {
   "cell_type": "markdown",
   "id": "70d0500d",
   "metadata": {},
   "source": [
    "| Loại Embedding       | Mô tả ngắn gọn                                                                                  |\n",
    "| -------------------- | ----------------------------------------------------------------------------------------------- |\n",
    "| `sentence_embedding` | Một vector đại diện cho **toàn bộ câu**. Thường là đầu ra của `[CLS]` hoặc trung bình các token |\n",
    "| `token_embedding`    | Một list các vector – **mỗi token (từ, subword)** trong câu có một vector riêng                 |\n"
   ]
  },
  {
   "cell_type": "markdown",
   "id": "305b26f2",
   "metadata": {},
   "source": [
    "| Tiêu chí                     | `sentence_embedding`                         | `token_embedding`                              |\n",
    "| ---------------------------- | -------------------------------------------- | ---------------------------------------------- |\n",
    "| 📌 Đầu ra                    | 1 vector có kích thước cố định (e.g., 768-d) | 1 list các vector (số lượng = số token)        |\n",
    "| 📏 Độ dài                    | Không phụ thuộc độ dài câu                   | Phụ thuộc vào số lượng token của câu           |\n",
    "| 🧮 Ứng dụng chính            | Semantic search, clustering, classification  | NER, POS tagging, highlighting, attention mask |\n",
    "| 🧪 Dễ sử dụng                | Rất dễ – chỉ cần dùng như vector             | Khó hơn – cần xử lý token alignment            |\n",
    "| ⚡ Tốc độ tính toán           | Nhanh hơn, ít tài nguyên hơn                 | Chậm hơn, tốn RAM/GPU hơn                      |\n",
    "| 🔍 Mức độ chi tiết ngữ nghĩa | Tổng quan toàn câu                           | Chi tiết từng phần trong câu                   |\n"
   ]
  },
  {
   "cell_type": "markdown",
   "id": "aaffbdf3",
   "metadata": {},
   "source": [
    "Dùng sentence_embedding khi:\n",
    "\n",
    "- Semantic search: tìm tài liệu phù hợp với câu hỏi\n",
    "\n",
    "- Text classification: phân loại câu, bài báo, bình luận\n",
    "\n",
    "- Clustering: gom nhóm văn bản theo ý nghĩa\n",
    "\n",
    "- Tính cosine similarity giữa các câu\n",
    "\n",
    "→ Ưu điểm: Gọn, nhanh, dễ dùng\n",
    "\n",
    "\n",
    "Dùng token_embedding khi:\n",
    "\n",
    "- Named Entity Recognition (NER)\n",
    "\n",
    "- Highlight cụm từ quan trọng (từng token)\n",
    "\n",
    "- Cần sự chi tiết đến từng phần nhỏ của câu (subword level)\n",
    "\n",
    "- Làm việc với attention, visualization layer\n",
    "\n",
    "→ Ưu điểm: Cực kỳ linh hoạt và chi tiết, nhưng cũng phức tạp hơn\n"
   ]
  }
 ],
 "metadata": {
  "kernelspec": {
   "display_name": ".venv",
   "language": "python",
   "name": "python3"
  },
  "language_info": {
   "codemirror_mode": {
    "name": "ipython",
    "version": 3
   },
   "file_extension": ".py",
   "mimetype": "text/x-python",
   "name": "python",
   "nbconvert_exporter": "python",
   "pygments_lexer": "ipython3",
   "version": "3.12.9"
  }
 },
 "nbformat": 4,
 "nbformat_minor": 5
}
