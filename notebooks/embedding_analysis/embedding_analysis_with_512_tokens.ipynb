{
 "cells": [
  {
   "cell_type": "markdown",
   "id": "66cd8806",
   "metadata": {},
   "source": [
    "# Load dataset"
   ]
  },
  {
   "cell_type": "code",
   "execution_count": 3,
   "id": "785b0aa9",
   "metadata": {},
   "outputs": [],
   "source": [
    "from transformers import AutoTokenizer\n",
    "from transformers import BertForSequenceClassification\n",
    "from transformers import BertTokenizer\n",
    "from sentence_transformers import SentenceTransformer\n",
    "\n",
    "import torch\n",
    "import numpy as np\n",
    "import pandas as pd\n",
    "import matplotlib.pyplot as plt"
   ]
  },
  {
   "cell_type": "code",
   "execution_count": 2,
   "id": "6b6e21f5",
   "metadata": {},
   "outputs": [
    {
     "data": {
      "text/html": [
       "<div>\n",
       "<style scoped>\n",
       "    .dataframe tbody tr th:only-of-type {\n",
       "        vertical-align: middle;\n",
       "    }\n",
       "\n",
       "    .dataframe tbody tr th {\n",
       "        vertical-align: top;\n",
       "    }\n",
       "\n",
       "    .dataframe thead th {\n",
       "        text-align: right;\n",
       "    }\n",
       "</style>\n",
       "<table border=\"1\" class=\"dataframe\">\n",
       "  <thead>\n",
       "    <tr style=\"text-align: right;\">\n",
       "      <th></th>\n",
       "      <th>title</th>\n",
       "      <th>content</th>\n",
       "      <th>type</th>\n",
       "    </tr>\n",
       "  </thead>\n",
       "  <tbody>\n",
       "    <tr>\n",
       "      <th>0</th>\n",
       "      <td>BUỔI ĐẦU LỊCH SỬ NƯỚC TA</td>\n",
       "      <td>Chương: BUỔI ĐẦU LỊCH SỬ NƯỚC TA</td>\n",
       "      <td>chapter</td>\n",
       "    </tr>\n",
       "    <tr>\n",
       "      <th>1</th>\n",
       "      <td>THỜI NGUYÊN THUỶ TRÊN ĐẤT NƯỚC TA</td>\n",
       "      <td>Chương: BUỔI ĐẦU LỊCH SỬ NƯỚC TA\\nBài: THỜI NG...</td>\n",
       "      <td>lesson</td>\n",
       "    </tr>\n",
       "    <tr>\n",
       "      <th>2</th>\n",
       "      <td>Những dấu tích của Người tối cổ được tìm thấy ...</td>\n",
       "      <td>Bài: THỜI NGUYÊN THUỶ TRÊN ĐẤT NƯỚC TA\\nNhững ...</td>\n",
       "      <td>title</td>\n",
       "    </tr>\n",
       "    <tr>\n",
       "      <th>3</th>\n",
       "      <td>Ở giai đoạn đầu, Người tinh khôn sống như thế ...</td>\n",
       "      <td>Bài: THỜI NGUYÊN THUỶ TRÊN ĐẤT NƯỚC TA\\nỞ giai...</td>\n",
       "      <td>title</td>\n",
       "    </tr>\n",
       "    <tr>\n",
       "      <th>4</th>\n",
       "      <td>Giai đoạn phát triển của Người tinh khôn có gì...</td>\n",
       "      <td>Bài: THỜI NGUYÊN THUỶ TRÊN ĐẤT NƯỚC TA\\nGiai đ...</td>\n",
       "      <td>title</td>\n",
       "    </tr>\n",
       "  </tbody>\n",
       "</table>\n",
       "</div>"
      ],
      "text/plain": [
       "                                               title  \\\n",
       "0                           BUỔI ĐẦU LỊCH SỬ NƯỚC TA   \n",
       "1                  THỜI NGUYÊN THUỶ TRÊN ĐẤT NƯỚC TA   \n",
       "2  Những dấu tích của Người tối cổ được tìm thấy ...   \n",
       "3  Ở giai đoạn đầu, Người tinh khôn sống như thế ...   \n",
       "4  Giai đoạn phát triển của Người tinh khôn có gì...   \n",
       "\n",
       "                                             content     type  \n",
       "0                   Chương: BUỔI ĐẦU LỊCH SỬ NƯỚC TA  chapter  \n",
       "1  Chương: BUỔI ĐẦU LỊCH SỬ NƯỚC TA\\nBài: THỜI NG...   lesson  \n",
       "2  Bài: THỜI NGUYÊN THUỶ TRÊN ĐẤT NƯỚC TA\\nNhững ...    title  \n",
       "3  Bài: THỜI NGUYÊN THUỶ TRÊN ĐẤT NƯỚC TA\\nỞ giai...    title  \n",
       "4  Bài: THỜI NGUYÊN THUỶ TRÊN ĐẤT NƯỚC TA\\nGiai đ...    title  "
      ]
     },
     "execution_count": 2,
     "metadata": {},
     "output_type": "execute_result"
    }
   ],
   "source": [
    "vietnamese_history_dataset_path = \"../../datasets/vietnamese_history_dataset/data.json\"\n",
    "df = pd.read_json(vietnamese_history_dataset_path)\n",
    "df.head()"
   ]
  },
  {
   "cell_type": "markdown",
   "id": "08704992",
   "metadata": {},
   "source": [
    "# Load tokenizer model"
   ]
  },
  {
   "cell_type": "code",
   "execution_count": 4,
   "id": "a09798f3",
   "metadata": {},
   "outputs": [
    {
     "data": {
      "application/vnd.jupyter.widget-view+json": {
       "model_id": "93c44a08a9ec488597839ba7080f0b30",
       "version_major": 2,
       "version_minor": 0
      },
      "text/plain": [
       "config.json:   0%|          | 0.00/846 [00:00<?, ?B/s]"
      ]
     },
     "metadata": {},
     "output_type": "display_data"
    },
    {
     "data": {
      "application/vnd.jupyter.widget-view+json": {
       "model_id": "4b814957000f4d51917d0ef6f894645d",
       "version_major": 2,
       "version_minor": 0
      },
      "text/plain": [
       "model.safetensors:   0%|          | 0.00/442M [00:00<?, ?B/s]"
      ]
     },
     "metadata": {},
     "output_type": "display_data"
    },
    {
     "name": "stderr",
     "output_type": "stream",
     "text": [
      "Some weights of BertForSequenceClassification were not initialized from the model checkpoint at trituenhantaoio/bert-base-vietnamese-uncased and are newly initialized: ['classifier.bias', 'classifier.weight']\n",
      "You should probably TRAIN this model on a down-stream task to be able to use it for predictions and inference.\n"
     ]
    },
    {
     "data": {
      "application/vnd.jupyter.widget-view+json": {
       "model_id": "d7d0f3565e494bfd92e6b754b71d8a10",
       "version_major": 2,
       "version_minor": 0
      },
      "text/plain": [
       "tokenizer_config.json:   0%|          | 0.00/238 [00:00<?, ?B/s]"
      ]
     },
     "metadata": {},
     "output_type": "display_data"
    },
    {
     "data": {
      "application/vnd.jupyter.widget-view+json": {
       "model_id": "49ea2766e3a349d6b0b6b84344ba9e0e",
       "version_major": 2,
       "version_minor": 0
      },
      "text/plain": [
       "vocab.txt:   0%|          | 0.00/207k [00:00<?, ?B/s]"
      ]
     },
     "metadata": {},
     "output_type": "display_data"
    },
    {
     "data": {
      "application/vnd.jupyter.widget-view+json": {
       "model_id": "814d32f6923348a2b47b732a6311e40a",
       "version_major": 2,
       "version_minor": 0
      },
      "text/plain": [
       "special_tokens_map.json:   0%|          | 0.00/112 [00:00<?, ?B/s]"
      ]
     },
     "metadata": {},
     "output_type": "display_data"
    }
   ],
   "source": [
    "model = BertForSequenceClassification.from_pretrained(\n",
    "    \"trituenhantaoio/bert-base-vietnamese-uncased\",\n",
    "    cache_dir=\"../../tokenizer_models/\"\n",
    ")\n",
    "tokenizer = BertTokenizer.from_pretrained(\n",
    "    \"trituenhantaoio/bert-base-vietnamese-uncased\",\n",
    "    cache_dir=\"../../tokenizer_models/\"\n",
    ")"
   ]
  },
  {
   "cell_type": "code",
   "execution_count": null,
   "id": "a1cfa2a0",
   "metadata": {},
   "outputs": [],
   "source": [
    "# test thử trên một mẫu\n",
    "text = df.iloc[0][\"content\"]\n",
    "print(text)\n",
    "\n",
    "inputs = tokenizer(\n",
    "    text,\n",
    "    return_tensors=\"pt\",\n",
    "    padding=True,\n",
    "    truncation=True,\n",
    "    max_length=512\n",
    ")"
   ]
  },
  {
   "cell_type": "code",
   "execution_count": null,
   "id": "7f7b44a6",
   "metadata": {},
   "outputs": [],
   "source": [
    "print()"
   ]
  }
 ],
 "metadata": {
  "kernelspec": {
   "display_name": ".venv",
   "language": "python",
   "name": "python3"
  },
  "language_info": {
   "codemirror_mode": {
    "name": "ipython",
    "version": 3
   },
   "file_extension": ".py",
   "mimetype": "text/x-python",
   "name": "python",
   "nbconvert_exporter": "python",
   "pygments_lexer": "ipython3",
   "version": "3.12.9"
  }
 },
 "nbformat": 4,
 "nbformat_minor": 5
}
