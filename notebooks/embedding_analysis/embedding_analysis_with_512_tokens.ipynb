{
 "cells": [
  {
   "cell_type": "markdown",
   "id": "66cd8806",
   "metadata": {},
   "source": [
    "# Load dataset"
   ]
  },
  {
   "cell_type": "code",
   "execution_count": 1,
   "id": "079ad13d",
   "metadata": {},
   "outputs": [],
   "source": [
    "import warnings\n",
    "warnings.filterwarnings(\"ignore\")"
   ]
  },
  {
   "cell_type": "code",
   "execution_count": 2,
   "id": "785b0aa9",
   "metadata": {},
   "outputs": [],
   "source": [
    "from transformers import AutoTokenizer\n",
    "from transformers import BertForSequenceClassification\n",
    "from transformers import BertTokenizer\n",
    "from sentence_transformers import SentenceTransformer\n",
    "\n",
    "import torch\n",
    "import numpy as np\n",
    "import pandas as pd\n",
    "import matplotlib.pyplot as plt"
   ]
  },
  {
   "cell_type": "code",
   "execution_count": 3,
   "id": "6b6e21f5",
   "metadata": {},
   "outputs": [
    {
     "data": {
      "text/html": [
       "<div>\n",
       "<style scoped>\n",
       "    .dataframe tbody tr th:only-of-type {\n",
       "        vertical-align: middle;\n",
       "    }\n",
       "\n",
       "    .dataframe tbody tr th {\n",
       "        vertical-align: top;\n",
       "    }\n",
       "\n",
       "    .dataframe thead th {\n",
       "        text-align: right;\n",
       "    }\n",
       "</style>\n",
       "<table border=\"1\" class=\"dataframe\">\n",
       "  <thead>\n",
       "    <tr style=\"text-align: right;\">\n",
       "      <th></th>\n",
       "      <th>title</th>\n",
       "      <th>content</th>\n",
       "      <th>type</th>\n",
       "    </tr>\n",
       "  </thead>\n",
       "  <tbody>\n",
       "    <tr>\n",
       "      <th>0</th>\n",
       "      <td>BUỔI ĐẦU LỊCH SỬ NƯỚC TA</td>\n",
       "      <td>Chương: BUỔI ĐẦU LỊCH SỬ NƯỚC TA</td>\n",
       "      <td>chapter</td>\n",
       "    </tr>\n",
       "    <tr>\n",
       "      <th>1</th>\n",
       "      <td>THỜI NGUYÊN THUỶ TRÊN ĐẤT NƯỚC TA</td>\n",
       "      <td>Chương: BUỔI ĐẦU LỊCH SỬ NƯỚC TA\\nBài: THỜI NG...</td>\n",
       "      <td>lesson</td>\n",
       "    </tr>\n",
       "    <tr>\n",
       "      <th>2</th>\n",
       "      <td>Những dấu tích của Người tối cổ được tìm thấy ...</td>\n",
       "      <td>Bài: THỜI NGUYÊN THUỶ TRÊN ĐẤT NƯỚC TA\\nNhững ...</td>\n",
       "      <td>title</td>\n",
       "    </tr>\n",
       "    <tr>\n",
       "      <th>3</th>\n",
       "      <td>Ở giai đoạn đầu, Người tinh khôn sống như thế ...</td>\n",
       "      <td>Bài: THỜI NGUYÊN THUỶ TRÊN ĐẤT NƯỚC TA\\nỞ giai...</td>\n",
       "      <td>title</td>\n",
       "    </tr>\n",
       "    <tr>\n",
       "      <th>4</th>\n",
       "      <td>Giai đoạn phát triển của Người tinh khôn có gì...</td>\n",
       "      <td>Bài: THỜI NGUYÊN THUỶ TRÊN ĐẤT NƯỚC TA\\nGiai đ...</td>\n",
       "      <td>title</td>\n",
       "    </tr>\n",
       "  </tbody>\n",
       "</table>\n",
       "</div>"
      ],
      "text/plain": [
       "                                               title  \\\n",
       "0                           BUỔI ĐẦU LỊCH SỬ NƯỚC TA   \n",
       "1                  THỜI NGUYÊN THUỶ TRÊN ĐẤT NƯỚC TA   \n",
       "2  Những dấu tích của Người tối cổ được tìm thấy ...   \n",
       "3  Ở giai đoạn đầu, Người tinh khôn sống như thế ...   \n",
       "4  Giai đoạn phát triển của Người tinh khôn có gì...   \n",
       "\n",
       "                                             content     type  \n",
       "0                   Chương: BUỔI ĐẦU LỊCH SỬ NƯỚC TA  chapter  \n",
       "1  Chương: BUỔI ĐẦU LỊCH SỬ NƯỚC TA\\nBài: THỜI NG...   lesson  \n",
       "2  Bài: THỜI NGUYÊN THUỶ TRÊN ĐẤT NƯỚC TA\\nNhững ...    title  \n",
       "3  Bài: THỜI NGUYÊN THUỶ TRÊN ĐẤT NƯỚC TA\\nỞ giai...    title  \n",
       "4  Bài: THỜI NGUYÊN THUỶ TRÊN ĐẤT NƯỚC TA\\nGiai đ...    title  "
      ]
     },
     "execution_count": 3,
     "metadata": {},
     "output_type": "execute_result"
    }
   ],
   "source": [
    "vietnamese_history_dataset_path = \"../../datasets/vietnamese_history_dataset/data.json\"\n",
    "df = pd.read_json(vietnamese_history_dataset_path)\n",
    "df.head()"
   ]
  },
  {
   "cell_type": "code",
   "execution_count": 16,
   "id": "b1556db3",
   "metadata": {},
   "outputs": [
    {
     "data": {
      "text/html": [
       "<div>\n",
       "<style scoped>\n",
       "    .dataframe tbody tr th:only-of-type {\n",
       "        vertical-align: middle;\n",
       "    }\n",
       "\n",
       "    .dataframe tbody tr th {\n",
       "        vertical-align: top;\n",
       "    }\n",
       "\n",
       "    .dataframe thead th {\n",
       "        text-align: right;\n",
       "    }\n",
       "</style>\n",
       "<table border=\"1\" class=\"dataframe\">\n",
       "  <thead>\n",
       "    <tr style=\"text-align: right;\">\n",
       "      <th></th>\n",
       "      <th>title</th>\n",
       "      <th>content</th>\n",
       "      <th>type</th>\n",
       "      <th>content_embedding</th>\n",
       "      <th>embeded</th>\n",
       "    </tr>\n",
       "  </thead>\n",
       "  <tbody>\n",
       "    <tr>\n",
       "      <th>0</th>\n",
       "      <td>BUỔI ĐẦU LỊCH SỬ NƯỚC TA</td>\n",
       "      <td>Chương: BUỔI ĐẦU LỊCH SỬ NƯỚC TA</td>\n",
       "      <td>chapter</td>\n",
       "      <td>Thực hiện kế hoạch 5 năm 1996 - 2000 Bài: Đất ...</td>\n",
       "      <td>None</td>\n",
       "    </tr>\n",
       "    <tr>\n",
       "      <th>1</th>\n",
       "      <td>THỜI NGUYÊN THUỶ TRÊN ĐẤT NƯỚC TA</td>\n",
       "      <td>Chương: BUỔI ĐẦU LỊCH SỬ NƯỚC TA\\nBài: THỜI NG...</td>\n",
       "      <td>lesson</td>\n",
       "      <td>Thực hiện kế hoạch 5 năm 1996 - 2000 Bài: Đất ...</td>\n",
       "      <td>None</td>\n",
       "    </tr>\n",
       "    <tr>\n",
       "      <th>2</th>\n",
       "      <td>Những dấu tích của Người tối cổ được tìm thấy ...</td>\n",
       "      <td>Bài: THỜI NGUYÊN THUỶ TRÊN ĐẤT NƯỚC TA\\nNhững ...</td>\n",
       "      <td>title</td>\n",
       "      <td>Thực hiện kế hoạch 5 năm 1996 - 2000 Bài: Đất ...</td>\n",
       "      <td>None</td>\n",
       "    </tr>\n",
       "    <tr>\n",
       "      <th>3</th>\n",
       "      <td>Ở giai đoạn đầu, Người tinh khôn sống như thế ...</td>\n",
       "      <td>Bài: THỜI NGUYÊN THUỶ TRÊN ĐẤT NƯỚC TA\\nỞ giai...</td>\n",
       "      <td>title</td>\n",
       "      <td>Thực hiện kế hoạch 5 năm 1996 - 2000 Bài: Đất ...</td>\n",
       "      <td>None</td>\n",
       "    </tr>\n",
       "    <tr>\n",
       "      <th>4</th>\n",
       "      <td>Giai đoạn phát triển của Người tinh khôn có gì...</td>\n",
       "      <td>Bài: THỜI NGUYÊN THUỶ TRÊN ĐẤT NƯỚC TA\\nGiai đ...</td>\n",
       "      <td>title</td>\n",
       "      <td>Thực hiện kế hoạch 5 năm 1996 - 2000 Bài: Đất ...</td>\n",
       "      <td>None</td>\n",
       "    </tr>\n",
       "  </tbody>\n",
       "</table>\n",
       "</div>"
      ],
      "text/plain": [
       "                                               title  \\\n",
       "0                           BUỔI ĐẦU LỊCH SỬ NƯỚC TA   \n",
       "1                  THỜI NGUYÊN THUỶ TRÊN ĐẤT NƯỚC TA   \n",
       "2  Những dấu tích của Người tối cổ được tìm thấy ...   \n",
       "3  Ở giai đoạn đầu, Người tinh khôn sống như thế ...   \n",
       "4  Giai đoạn phát triển của Người tinh khôn có gì...   \n",
       "\n",
       "                                             content     type  \\\n",
       "0                   Chương: BUỔI ĐẦU LỊCH SỬ NƯỚC TA  chapter   \n",
       "1  Chương: BUỔI ĐẦU LỊCH SỬ NƯỚC TA\\nBài: THỜI NG...   lesson   \n",
       "2  Bài: THỜI NGUYÊN THUỶ TRÊN ĐẤT NƯỚC TA\\nNhững ...    title   \n",
       "3  Bài: THỜI NGUYÊN THUỶ TRÊN ĐẤT NƯỚC TA\\nỞ giai...    title   \n",
       "4  Bài: THỜI NGUYÊN THUỶ TRÊN ĐẤT NƯỚC TA\\nGiai đ...    title   \n",
       "\n",
       "                                   content_embedding embeded  \n",
       "0  Thực hiện kế hoạch 5 năm 1996 - 2000 Bài: Đất ...    None  \n",
       "1  Thực hiện kế hoạch 5 năm 1996 - 2000 Bài: Đất ...    None  \n",
       "2  Thực hiện kế hoạch 5 năm 1996 - 2000 Bài: Đất ...    None  \n",
       "3  Thực hiện kế hoạch 5 năm 1996 - 2000 Bài: Đất ...    None  \n",
       "4  Thực hiện kế hoạch 5 năm 1996 - 2000 Bài: Đất ...    None  "
      ]
     },
     "execution_count": 16,
     "metadata": {},
     "output_type": "execute_result"
    }
   ],
   "source": [
    "df[\"content_embedding\"] = None\n",
    "df[\"embeded\"] = None\n",
    "\n",
    "for idx in range(len(df)):\n",
    "    df[\"content_embedding\"] = df[\"title\"][idx] + \" \" + df[\"content\"][idx]\n",
    "\n",
    "df.head()"
   ]
  },
  {
   "cell_type": "markdown",
   "id": "08704992",
   "metadata": {},
   "source": [
    "# Load tokenizer model"
   ]
  },
  {
   "cell_type": "code",
   "execution_count": null,
   "id": "a09798f3",
   "metadata": {},
   "outputs": [],
   "source": [
    "tokenizer = BertTokenizer.from_pretrained(\n",
    "    \"trituenhantaoio/bert-base-vietnamese-uncased\",\n",
    "    cache_dir=\"../../tokenizer_models/\"\n",
    ")"
   ]
  },
  {
   "cell_type": "markdown",
   "id": "73918128",
   "metadata": {},
   "source": [
    "# Chungking data về kích thước 512 tokens"
   ]
  },
  {
   "cell_type": "code",
   "execution_count": null,
   "id": "265c1f49",
   "metadata": {},
   "outputs": [],
   "source": [
    "def chunk_text(text, max_length=512, max_tokens=512, stride=64, tokenizer=None):\n",
    "    \"\"\"Split text into chunks of max_length tokens.\"\"\"\n",
    "    if text is None:\n",
    "        raise ValueError(\"Text must be provided.\")\n",
    "    if max_length > 512:\n",
    "        raise ValueError(\"max_length must be less than or equal to 512.\")\n",
    "    if max_tokens > 512:\n",
    "        raise ValueError(\"max_tokens must be less than or equal to 512.\")\n",
    "    if tokenizer is None:\n",
    "        raise ValueError(\"Tokenizer must be provided.\")\n",
    "    \n",
    "    tokens = tokenizer.encode(text, add_special_tokens=True)\n",
    "    chunks = []\n",
    "    start = 0\n",
    "    while start < len(tokens):\n",
    "        end = start + max_tokens\n",
    "        chunk = tokens[start:end]\n",
    "        chunks.append(chunk)\n",
    "\n",
    "        # Nếu có stride (chồng lấn token giữa các đoạn)\n",
    "        start += max_tokens - stride if stride > 0 else max_tokens\n",
    "\n",
    "    # Decode lại các đoạn thành văn bản\n",
    "    chunk_texts = [tokenizer.decode(chunk, skip_special_tokens=True) for chunk in chunks]\n",
    "    return chunk_texts"
   ]
  },
  {
   "cell_type": "code",
   "execution_count": 21,
   "id": "f43f2641",
   "metadata": {},
   "outputs": [
    {
     "name": "stdout",
     "output_type": "stream",
     "text": [
      "--- Chunk 1 ---\n",
      "đay la mot đoan van ban tieng viet rat dai đay la mot đoan van ban tieng viet rat dai đay la mot đoan van ban tieng viet rat dai đay la mot đoan van ban tieng viet rat dai đay la mot đoan van ban tien ...\n",
      "--- Chunk 2 ---\n",
      "tieng viet rat dai đay la mot đoan van ban tieng viet rat dai đay la mot đoan van ban tieng viet rat dai đay la mot đoan van ban tieng viet rat dai đay la mot đoan van ban tieng viet rat dai đay la mo ...\n",
      "--- Chunk 3 ---\n",
      "đay la mot đoan van ban tieng viet rat dai đay la mot đoan van ban tieng viet rat dai đay la mot đoan van ban tieng viet rat dai đay la mot đoan van ban tieng viet rat dai đay la mot đoan van ban tien ...\n",
      "--- Chunk 4 ---\n",
      "ban tieng viet rat dai đay la mot đoan van ban tieng viet rat dai đay la mot đoan van ban tieng viet rat dai đay la mot đoan van ban tieng viet rat dai đay la mot đoan van ban tieng viet rat dai đay l ...\n",
      "--- Chunk 5 ---\n",
      "đay la mot đoan van ban tieng viet rat dai đay la mot đoan van ban tieng viet rat dai đay la mot đoan van ban tieng viet rat dai đay la mot đoan van ban tieng viet rat dai đay la mot đoan van ban tien ...\n",
      "--- Chunk 6 ---\n",
      "van ban tieng viet rat dai đay la mot đoan van ban tieng viet rat dai đay la mot đoan van ban tieng viet rat dai đay la mot đoan van ban tieng viet rat dai đay la mot đoan van ban tieng viet rat dai đ ...\n",
      "--- Chunk 7 ---\n",
      "dai đay la mot đoan van ban tieng viet rat dai đay la mot đoan van ban tieng viet rat dai đay la mot đoan van ban tieng viet rat dai đay la mot đoan van ban tieng viet rat dai đay la mot đoan van ban  ...\n",
      "--- Chunk 8 ---\n",
      "đoan van ban tieng viet rat dai đay la mot đoan van ban tieng viet rat dai đay la mot đoan van ban tieng viet rat dai đay la mot đoan van ban tieng viet rat dai đay la mot đoan van ban tieng viet rat  ...\n",
      "--- Chunk 9 ---\n",
      "##t dai đay la mot đoan van ban tieng viet rat dai đay la mot đoan van ban tieng viet rat dai đay la mot đoan van ban tieng viet rat dai đay la mot đoan van ban tieng viet rat dai đay la mot đoan van  ...\n",
      "--- Chunk 10 ---\n",
      "mot đoan van ban tieng viet rat dai đay la mot đoan van ban tieng viet rat dai đay la mot đoan van ban tieng viet rat dai đay la mot đoan van ban tieng viet rat dai đay la mot đoan van ban tieng viet  ...\n",
      "--- Chunk 11 ---\n",
      "rat dai đay la mot đoan van ban tieng viet rat dai đay la mot đoan van ban tieng viet rat dai đay la mot đoan van ban tieng viet rat dai đay la mot đoan van ban tieng viet rat dai đay la mot đoan van  ...\n",
      "--- Chunk 12 ---\n",
      "la mot đoan van ban tieng viet rat dai đay la mot đoan van ban tieng viet rat dai đay la mot đoan van ban tieng viet rat dai đay la mot đoan van ban tieng viet rat dai đay la mot đoan van ban tieng vi ...\n",
      "--- Chunk 13 ---\n",
      "viet rat dai đay la mot đoan van ban tieng viet rat dai đay la mot đoan van ban tieng viet rat dai đay la mot đoan van ban tieng viet rat dai đay la mot đoan van ban tieng viet rat dai đay la mot đoan ...\n",
      "--- Chunk 14 ---\n",
      "đay la mot đoan van ban tieng viet rat dai đay la mot đoan van ban tieng viet rat dai đay la mot đoan van ban tieng viet rat dai đay la mot đoan van ban tieng viet rat dai đay la mot đoan van ban tien ...\n",
      "--- Chunk 15 ---\n",
      "##g viet rat dai đay la mot đoan van ban tieng viet rat dai đay la mot đoan van ban tieng viet rat dai đay la mot đoan van ban tieng viet rat dai đay la mot đoan van ban tieng viet rat dai đay la mot  ...\n",
      "--- Chunk 16 ---\n",
      "đay la mot đoan van ban tieng viet rat dai đay la mot đoan van ban tieng viet rat dai đay la mot đoan van ban tieng viet rat dai đay la mot đoan van ban tieng viet rat dai đay la mot đoan van ban tien ...\n",
      "--- Chunk 17 ---\n",
      "tieng viet rat dai đay la mot đoan van ban tieng viet rat dai đay la mot đoan van ban tieng viet rat dai đay la mot đoan van ban tieng viet rat dai đay la mot đoan van ban tieng viet rat dai đay la mo ...\n",
      "--- Chunk 18 ---\n",
      "đay la mot đoan van ban tieng viet rat dai đay la mot đoan van ban tieng viet rat dai đay la mot đoan van ban tieng viet rat dai đay la mot đoan van ban tieng viet rat dai đay la mot đoan van ban tien ...\n",
      "--- Chunk 19 ---\n",
      "ban tieng viet rat dai đay la mot đoan van ban tieng viet rat dai đay la mot đoan van ban tieng viet rat dai đay la mot đoan van ban tieng viet rat dai đay la mot đoan van ban tieng viet rat dai đay l ...\n"
     ]
    }
   ],
   "source": [
    "text = \"Đây là một đoạn văn bản tiếng Việt rất dài...\" * 500\n",
    "chunks = chunk_text(text, max_tokens=512, stride=100, tokenizer=tokenizer)\n",
    "\n",
    "for i, chunk in enumerate(chunks):\n",
    "    print(f\"--- Chunk {i+1} ---\")\n",
    "    print(chunk[:200], \"...\")  # In thử 200 ký tự đầu\n"
   ]
  }
 ],
 "metadata": {
  "kernelspec": {
   "display_name": "Python 3",
   "language": "python",
   "name": "python3"
  },
  "language_info": {
   "codemirror_mode": {
    "name": "ipython",
    "version": 3
   },
   "file_extension": ".py",
   "mimetype": "text/x-python",
   "name": "python",
   "nbconvert_exporter": "python",
   "pygments_lexer": "ipython3",
   "version": "3.12.9"
  }
 },
 "nbformat": 4,
 "nbformat_minor": 5
}
